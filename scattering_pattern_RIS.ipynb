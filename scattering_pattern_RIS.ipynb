{
 "cells": [
  {
   "cell_type": "code",
   "execution_count": 13,
   "metadata": {},
   "outputs": [],
   "source": [
    "import numpy as np\n",
    "import pandas as pd\n",
    "from scipy.fft import fft, ifft\n",
    "import cmath\n",
    "\n",
    "from processing_func import from_S_to_T, from_T_to_S\n",
    "from file_opener import run"
   ]
  },
  {
   "cell_type": "code",
   "execution_count": 14,
   "metadata": {},
   "outputs": [],
   "source": [
    "%matplotlib widget\n",
    "import matplotlib.pyplot as plt"
   ]
  },
  {
   "cell_type": "markdown",
   "metadata": {},
   "source": [
    "Импорт данных"
   ]
  },
  {
   "cell_type": "code",
   "execution_count": 15,
   "metadata": {},
   "outputs": [],
   "source": [
    "reflecting_coef_30deg_TE = pd.read_csv('ND_struct_30deg_s11_TE.txt', sep='\\t', header=None, skiprows=3, \n",
    "                names=['Frequency', 'ReSz11', 'ImSz11'])\n",
    "\n",
    "reflecting_coef_0deg_TE = pd.read_csv('ND_struct_0deg_s11_TE.txt', sep='\\t', header=None, skiprows=3, \n",
    "                names=['Frequency', 'ReSz11', 'ImSz11'])\n",
    "\n",
    "reflecting_coef_45deg_TE = pd.read_csv('ND_struct_45deg_s11_TE.txt', sep='\\t', header=None, skiprows=3, \n",
    "                names=['Frequency', 'ReSz11', 'ImSz11'])\n",
    "\n",
    "reflecting_coef_60deg_TE = pd.read_csv('ND_struct_60deg_s11_TE.txt', sep='\\t', header=None, skiprows=3, \n",
    "                names=['Frequency', 'ReSz11', 'ImSz11'])"
   ]
  },
  {
   "cell_type": "code",
   "execution_count": 20,
   "metadata": {},
   "outputs": [],
   "source": [
    "mes_list = [reflecting_coef_0deg_TE, reflecting_coef_30deg_TE, reflecting_coef_45deg_TE, reflecting_coef_60deg_TE]\n",
    "\n",
    "data_25GHz = mes_list[0].loc[mes_list[0]['Frequency'] == 25]\n",
    "\n",
    "for i in range(1, len(mes_list), 1):\n",
    "    data_25GHz = pd.concat([data_25GHz, mes_list[i].loc[mes_list[i]['Frequency'] == 25]], ignore_index=True)"
   ]
  },
  {
   "cell_type": "code",
   "execution_count": 21,
   "metadata": {},
   "outputs": [
    {
     "data": {
      "text/html": [
       "<div>\n",
       "<style scoped>\n",
       "    .dataframe tbody tr th:only-of-type {\n",
       "        vertical-align: middle;\n",
       "    }\n",
       "\n",
       "    .dataframe tbody tr th {\n",
       "        vertical-align: top;\n",
       "    }\n",
       "\n",
       "    .dataframe thead th {\n",
       "        text-align: right;\n",
       "    }\n",
       "</style>\n",
       "<table border=\"1\" class=\"dataframe\">\n",
       "  <thead>\n",
       "    <tr style=\"text-align: right;\">\n",
       "      <th></th>\n",
       "      <th>Frequency</th>\n",
       "      <th>ReSz11</th>\n",
       "      <th>ImSz11</th>\n",
       "    </tr>\n",
       "  </thead>\n",
       "  <tbody>\n",
       "    <tr>\n",
       "      <th>0</th>\n",
       "      <td>25.0</td>\n",
       "      <td>0.904027</td>\n",
       "      <td>0.050718</td>\n",
       "    </tr>\n",
       "    <tr>\n",
       "      <th>1</th>\n",
       "      <td>25.0</td>\n",
       "      <td>0.808577</td>\n",
       "      <td>-0.338870</td>\n",
       "    </tr>\n",
       "    <tr>\n",
       "      <th>2</th>\n",
       "      <td>25.0</td>\n",
       "      <td>0.833809</td>\n",
       "      <td>0.182458</td>\n",
       "    </tr>\n",
       "    <tr>\n",
       "      <th>3</th>\n",
       "      <td>25.0</td>\n",
       "      <td>0.748441</td>\n",
       "      <td>-0.184718</td>\n",
       "    </tr>\n",
       "  </tbody>\n",
       "</table>\n",
       "</div>"
      ],
      "text/plain": [
       "   Frequency    ReSz11    ImSz11\n",
       "0       25.0  0.904027  0.050718\n",
       "1       25.0  0.808577 -0.338870\n",
       "2       25.0  0.833809  0.182458\n",
       "3       25.0  0.748441 -0.184718"
      ]
     },
     "execution_count": 21,
     "metadata": {},
     "output_type": "execute_result"
    }
   ],
   "source": [
    "data_25GHz.head()"
   ]
  }
 ],
 "metadata": {
  "kernelspec": {
   "display_name": "Python 3",
   "language": "python",
   "name": "python3"
  },
  "language_info": {
   "codemirror_mode": {
    "name": "ipython",
    "version": 3
   },
   "file_extension": ".py",
   "mimetype": "text/x-python",
   "name": "python",
   "nbconvert_exporter": "python",
   "pygments_lexer": "ipython3",
   "version": "3.11.2"
  },
  "orig_nbformat": 4
 },
 "nbformat": 4,
 "nbformat_minor": 2
}
