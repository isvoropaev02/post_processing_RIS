{
 "cells": [
  {
   "cell_type": "code",
   "execution_count": 20,
   "metadata": {},
   "outputs": [],
   "source": [
    "import numpy as np\n",
    "import pandas as pd\n",
    "from scipy.fft import fft, ifft\n",
    "import cmath\n",
    "\n",
    "from processing_func import from_S_to_T, from_T_to_S\n",
    "from file_opener import run"
   ]
  },
  {
   "cell_type": "code",
   "execution_count": 21,
   "metadata": {},
   "outputs": [],
   "source": [
    "%matplotlib widget\n",
    "import matplotlib.pyplot as plt"
   ]
  },
  {
   "cell_type": "markdown",
   "metadata": {},
   "source": [
    "Импорт данных"
   ]
  },
  {
   "cell_type": "code",
   "execution_count": 29,
   "metadata": {},
   "outputs": [],
   "source": [
    "list_of_angles = [0, 30, 45, 60]"
   ]
  },
  {
   "cell_type": "code",
   "execution_count": 30,
   "metadata": {},
   "outputs": [],
   "source": [
    "for angle in list_of_angles:\n",
    "    tempTE = pd.read_csv('ND_struct_' + str(angle) + 'deg_s11_TE.txt', sep='\\t', header=None, skiprows=3, \n",
    "                names=['Frequency', 'ReSz11', 'ImSz11'])\n",
    "    tempTM = pd.read_csv('ND_struct_' + str(angle) + 'deg_s11_TM.txt', sep='\\t', header=None, skiprows=3, \n",
    "                names=['Frequency', 'ReSz11', 'ImSz11'])\n",
    "\n",
    "    if angle == 0:\n",
    "        tempTE['Angle'] = angle\n",
    "        tempTM['Angle'] = angle\n",
    "        dataTE = tempTE.loc[tempTE['Frequency'] == 25]\n",
    "        dataTM = tempTM.loc[tempTM['Frequency'] == 25]\n",
    "    else:\n",
    "        tempTE['Angle'] = angle\n",
    "        tempTM['Angle'] = angle\n",
    "        dataTE = pd.concat([dataTE, tempTE.loc[tempTE['Frequency'] == 25]], ignore_index=True)\n",
    "        dataTM = pd.concat([dataTM, tempTM.loc[tempTE['Frequency'] == 25]], ignore_index=True)"
   ]
  },
  {
   "cell_type": "code",
   "execution_count": 31,
   "metadata": {},
   "outputs": [
    {
     "data": {
      "text/html": [
       "<div>\n",
       "<style scoped>\n",
       "    .dataframe tbody tr th:only-of-type {\n",
       "        vertical-align: middle;\n",
       "    }\n",
       "\n",
       "    .dataframe tbody tr th {\n",
       "        vertical-align: top;\n",
       "    }\n",
       "\n",
       "    .dataframe thead th {\n",
       "        text-align: right;\n",
       "    }\n",
       "</style>\n",
       "<table border=\"1\" class=\"dataframe\">\n",
       "  <thead>\n",
       "    <tr style=\"text-align: right;\">\n",
       "      <th></th>\n",
       "      <th>Frequency</th>\n",
       "      <th>ReSz11</th>\n",
       "      <th>ImSz11</th>\n",
       "      <th>Angle</th>\n",
       "    </tr>\n",
       "  </thead>\n",
       "  <tbody>\n",
       "    <tr>\n",
       "      <th>0</th>\n",
       "      <td>25.0</td>\n",
       "      <td>0.904027</td>\n",
       "      <td>0.050718</td>\n",
       "      <td>0</td>\n",
       "    </tr>\n",
       "    <tr>\n",
       "      <th>1</th>\n",
       "      <td>25.0</td>\n",
       "      <td>0.808577</td>\n",
       "      <td>-0.338870</td>\n",
       "      <td>30</td>\n",
       "    </tr>\n",
       "    <tr>\n",
       "      <th>2</th>\n",
       "      <td>25.0</td>\n",
       "      <td>0.833809</td>\n",
       "      <td>0.182458</td>\n",
       "      <td>45</td>\n",
       "    </tr>\n",
       "    <tr>\n",
       "      <th>3</th>\n",
       "      <td>25.0</td>\n",
       "      <td>0.748441</td>\n",
       "      <td>-0.184718</td>\n",
       "      <td>60</td>\n",
       "    </tr>\n",
       "  </tbody>\n",
       "</table>\n",
       "</div>"
      ],
      "text/plain": [
       "   Frequency    ReSz11    ImSz11  Angle\n",
       "0       25.0  0.904027  0.050718      0\n",
       "1       25.0  0.808577 -0.338870     30\n",
       "2       25.0  0.833809  0.182458     45\n",
       "3       25.0  0.748441 -0.184718     60"
      ]
     },
     "execution_count": 31,
     "metadata": {},
     "output_type": "execute_result"
    }
   ],
   "source": [
    "dataTE.head()"
   ]
  },
  {
   "cell_type": "code",
   "execution_count": 32,
   "metadata": {},
   "outputs": [
    {
     "data": {
      "text/html": [
       "<div>\n",
       "<style scoped>\n",
       "    .dataframe tbody tr th:only-of-type {\n",
       "        vertical-align: middle;\n",
       "    }\n",
       "\n",
       "    .dataframe tbody tr th {\n",
       "        vertical-align: top;\n",
       "    }\n",
       "\n",
       "    .dataframe thead th {\n",
       "        text-align: right;\n",
       "    }\n",
       "</style>\n",
       "<table border=\"1\" class=\"dataframe\">\n",
       "  <thead>\n",
       "    <tr style=\"text-align: right;\">\n",
       "      <th></th>\n",
       "      <th>Frequency</th>\n",
       "      <th>ReSz11</th>\n",
       "      <th>ImSz11</th>\n",
       "      <th>Angle</th>\n",
       "    </tr>\n",
       "  </thead>\n",
       "  <tbody>\n",
       "    <tr>\n",
       "      <th>0</th>\n",
       "      <td>25.0</td>\n",
       "      <td>0.904027</td>\n",
       "      <td>0.050718</td>\n",
       "      <td>0</td>\n",
       "    </tr>\n",
       "    <tr>\n",
       "      <th>1</th>\n",
       "      <td>25.0</td>\n",
       "      <td>0.719588</td>\n",
       "      <td>-0.523267</td>\n",
       "      <td>30</td>\n",
       "    </tr>\n",
       "    <tr>\n",
       "      <th>2</th>\n",
       "      <td>25.0</td>\n",
       "      <td>0.720663</td>\n",
       "      <td>-0.509632</td>\n",
       "      <td>45</td>\n",
       "    </tr>\n",
       "    <tr>\n",
       "      <th>3</th>\n",
       "      <td>25.0</td>\n",
       "      <td>-0.312453</td>\n",
       "      <td>-0.855562</td>\n",
       "      <td>60</td>\n",
       "    </tr>\n",
       "  </tbody>\n",
       "</table>\n",
       "</div>"
      ],
      "text/plain": [
       "   Frequency    ReSz11    ImSz11  Angle\n",
       "0       25.0  0.904027  0.050718      0\n",
       "1       25.0  0.719588 -0.523267     30\n",
       "2       25.0  0.720663 -0.509632     45\n",
       "3       25.0 -0.312453 -0.855562     60"
      ]
     },
     "execution_count": 32,
     "metadata": {},
     "output_type": "execute_result"
    }
   ],
   "source": [
    "dataTM.head()"
   ]
  },
  {
   "cell_type": "code",
   "execution_count": 26,
   "metadata": {},
   "outputs": [],
   "source": [
    "reflecting_coef_30deg_TE = pd.read_csv('ND_struct_30deg_s11_TE.txt', sep='\\t', header=None, skiprows=3, \n",
    "                names=['Frequency', 'ReSz11', 'ImSz11'])\n",
    "\n",
    "reflecting_coef_0deg_TE = pd.read_csv('ND_struct_0deg_s11_TE.txt', sep='\\t', header=None, skiprows=3, \n",
    "                names=['Frequency', 'ReSz11', 'ImSz11'])\n",
    "\n",
    "reflecting_coef_45deg_TE = pd.read_csv('ND_struct_45deg_s11_TE.txt', sep='\\t', header=None, skiprows=3, \n",
    "                names=['Frequency', 'ReSz11', 'ImSz11'])\n",
    "\n",
    "reflecting_coef_60deg_TE = pd.read_csv('ND_struct_60deg_s11_TE.txt', sep='\\t', header=None, skiprows=3, \n",
    "                names=['Frequency', 'ReSz11', 'ImSz11'])"
   ]
  },
  {
   "cell_type": "code",
   "execution_count": 27,
   "metadata": {},
   "outputs": [],
   "source": [
    "mes_list = [reflecting_coef_0deg_TE, reflecting_coef_30deg_TE, reflecting_coef_45deg_TE, reflecting_coef_60deg_TE]\n",
    "\n",
    "data_25GHz = mes_list[0].loc[mes_list[0]['Frequency'] == 25]\n",
    "\n",
    "for i in range(1, len(mes_list), 1):\n",
    "    data_25GHz = pd.concat([data_25GHz, mes_list[i].loc[mes_list[i]['Frequency'] == 25]], ignore_index=True)"
   ]
  },
  {
   "cell_type": "code",
   "execution_count": 35,
   "metadata": {},
   "outputs": [
    {
     "data": {
      "text/html": [
       "<div>\n",
       "<style scoped>\n",
       "    .dataframe tbody tr th:only-of-type {\n",
       "        vertical-align: middle;\n",
       "    }\n",
       "\n",
       "    .dataframe tbody tr th {\n",
       "        vertical-align: top;\n",
       "    }\n",
       "\n",
       "    .dataframe thead th {\n",
       "        text-align: right;\n",
       "    }\n",
       "</style>\n",
       "<table border=\"1\" class=\"dataframe\">\n",
       "  <thead>\n",
       "    <tr style=\"text-align: right;\">\n",
       "      <th></th>\n",
       "      <th>Frequency</th>\n",
       "      <th>ReSz11</th>\n",
       "      <th>ImSz11</th>\n",
       "    </tr>\n",
       "  </thead>\n",
       "  <tbody>\n",
       "    <tr>\n",
       "      <th>0</th>\n",
       "      <td>25.0</td>\n",
       "      <td>0.904027</td>\n",
       "      <td>0.050718</td>\n",
       "    </tr>\n",
       "    <tr>\n",
       "      <th>1</th>\n",
       "      <td>25.0</td>\n",
       "      <td>0.808577</td>\n",
       "      <td>-0.338870</td>\n",
       "    </tr>\n",
       "    <tr>\n",
       "      <th>2</th>\n",
       "      <td>25.0</td>\n",
       "      <td>0.833809</td>\n",
       "      <td>0.182458</td>\n",
       "    </tr>\n",
       "    <tr>\n",
       "      <th>3</th>\n",
       "      <td>25.0</td>\n",
       "      <td>0.748441</td>\n",
       "      <td>-0.184718</td>\n",
       "    </tr>\n",
       "  </tbody>\n",
       "</table>\n",
       "</div>"
      ],
      "text/plain": [
       "   Frequency    ReSz11    ImSz11\n",
       "0       25.0  0.904027  0.050718\n",
       "1       25.0  0.808577 -0.338870\n",
       "2       25.0  0.833809  0.182458\n",
       "3       25.0  0.748441 -0.184718"
      ]
     },
     "execution_count": 35,
     "metadata": {},
     "output_type": "execute_result"
    }
   ],
   "source": [
    "data_25GHz"
   ]
  },
  {
   "cell_type": "code",
   "execution_count": 34,
   "metadata": {},
   "outputs": [
    {
     "data": {
      "text/html": [
       "<div>\n",
       "<style scoped>\n",
       "    .dataframe tbody tr th:only-of-type {\n",
       "        vertical-align: middle;\n",
       "    }\n",
       "\n",
       "    .dataframe tbody tr th {\n",
       "        vertical-align: top;\n",
       "    }\n",
       "\n",
       "    .dataframe thead th {\n",
       "        text-align: right;\n",
       "    }\n",
       "</style>\n",
       "<table border=\"1\" class=\"dataframe\">\n",
       "  <thead>\n",
       "    <tr style=\"text-align: right;\">\n",
       "      <th></th>\n",
       "      <th>Frequency</th>\n",
       "      <th>ReSz11</th>\n",
       "      <th>ImSz11</th>\n",
       "      <th>Angle</th>\n",
       "    </tr>\n",
       "  </thead>\n",
       "  <tbody>\n",
       "    <tr>\n",
       "      <th>0</th>\n",
       "      <td>25.0</td>\n",
       "      <td>0.904027</td>\n",
       "      <td>0.050718</td>\n",
       "      <td>0</td>\n",
       "    </tr>\n",
       "    <tr>\n",
       "      <th>1</th>\n",
       "      <td>25.0</td>\n",
       "      <td>0.808577</td>\n",
       "      <td>-0.338870</td>\n",
       "      <td>30</td>\n",
       "    </tr>\n",
       "    <tr>\n",
       "      <th>2</th>\n",
       "      <td>25.0</td>\n",
       "      <td>0.833809</td>\n",
       "      <td>0.182458</td>\n",
       "      <td>45</td>\n",
       "    </tr>\n",
       "    <tr>\n",
       "      <th>3</th>\n",
       "      <td>25.0</td>\n",
       "      <td>0.748441</td>\n",
       "      <td>-0.184718</td>\n",
       "      <td>60</td>\n",
       "    </tr>\n",
       "  </tbody>\n",
       "</table>\n",
       "</div>"
      ],
      "text/plain": [
       "   Frequency    ReSz11    ImSz11  Angle\n",
       "0       25.0  0.904027  0.050718      0\n",
       "1       25.0  0.808577 -0.338870     30\n",
       "2       25.0  0.833809  0.182458     45\n",
       "3       25.0  0.748441 -0.184718     60"
      ]
     },
     "execution_count": 34,
     "metadata": {},
     "output_type": "execute_result"
    }
   ],
   "source": [
    "dataTE"
   ]
  }
 ],
 "metadata": {
  "kernelspec": {
   "display_name": "Python 3",
   "language": "python",
   "name": "python3"
  },
  "language_info": {
   "codemirror_mode": {
    "name": "ipython",
    "version": 3
   },
   "file_extension": ".py",
   "mimetype": "text/x-python",
   "name": "python",
   "nbconvert_exporter": "python",
   "pygments_lexer": "ipython3",
   "version": "3.11.2"
  },
  "orig_nbformat": 4
 },
 "nbformat": 4,
 "nbformat_minor": 2
}
